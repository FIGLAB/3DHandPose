{
 "cells": [
  {
   "cell_type": "code",
   "execution_count": 1,
   "metadata": {},
   "outputs": [
    {
     "name": "stdout",
     "output_type": "stream",
     "text": [
      "Saved a.txt: Index finger down (with the palm NOT touching the screen)\n",
      "\n",
      "Saved a-p.txt: Index finger down with the palm touching the screen\n",
      "\n",
      "Saved b.txt: Thumb down (with the palm NOT touching the screen)\n",
      "\n",
      "Saved b-p.txt: Thumb down with the palm touching the screen\n",
      "\n",
      "Saved c.txt: Pinch gesture with the index finger and thumb (with the palm NOT touching the screen)\n",
      "\n",
      "Saved c-p.txt: Pinch gesture with the index finger and thumb with the palm touching the screen\n",
      "\n",
      "Saved d.txt: Grab gesture with index+middle finger and thumb (with the palm NOT touching the screen)\n",
      "\n",
      "Saved e.txt: Grab gesture with all fingers - like grabbing a brick or LEGO block\n",
      "\n",
      "Saved f.txt: Four fingers in a row  (with the palm NOT touching the screen)\n",
      "\n",
      "Saved f-p.txt: Four fingers in a row with the palm touching the screen\n",
      "\n",
      "Saved g.txt: All fingertips together (with the palm NOT touching the screen)\n",
      "\n",
      "Saved g-p.txt: All fingertips together with the palm touching the screen\n",
      "\n",
      "Saved h.txt: All fingertips apart (with the palm NOT touching the screen)\n",
      "\n",
      "Saved h-p.txt: All fingertips apart with the palm touching the screen\n",
      "\n",
      "Saved i.txt: Front of the all fingers but not the thumb touching (with the palm NOT touching the screen)\n",
      "\n",
      "Saved i-p.txt: Front of all fingers but not the thumb touching with the palm touching the screen\n",
      "\n",
      "Saved j.txt: All fingers flat down and close together (with the palm NOT touching the screen)\n",
      "\n",
      "Saved j-p.txt: All fingers flat down and close together with the palm touching the screen\n",
      "\n",
      "Saved k.txt: All fingers flat down and close together BUT the thumb facing outward w (with the palm NOT touching the screen)\n",
      "\n",
      "Saved k-p.txt: All fingers flat down and close together BUT the thumb facing outward with the palm touching the screen\n",
      "\n",
      "Saved l.txt: All finger flat and spread apart (with the palm NOT touching the screen)\n",
      "\n",
      "Saved l-p.txt: All finger flat and spread apart with the palm touching the screen\n",
      "\n",
      "Saved m.txt: Hand sideways only little finger touches (no palm)\n",
      "\n",
      "Saved m-p.txt: Hand sideways (with the side of the palm down)\n",
      "\n",
      "Saved n.txt: Hand sideways forming a corner\n",
      "\n",
      "Saved o.txt: Hand sideways forming a circle\n",
      "\n",
      "Saved p.txt: Fist down\n",
      "\n",
      "Saved q.txt: Back of the hand touching\n",
      "\n",
      "Saved r.txt: Palm down and fingers up\n",
      "\n"
     ]
    }
   ],
   "source": [
    "with open(\"all.txt\", \"r\") as a_file:\n",
    "    for line in a_file:\n",
    "        split = line.split(\" \")\n",
    "        gesturename = split[0]\n",
    "        filename = \"%s.txt\" % gesturename\n",
    "        content = \" \".join(split[1:])\n",
    "        \n",
    "        \n",
    "        f = open(filename, \"w\")\n",
    "        f.write(content)\n",
    "        f.close()\n",
    "        print(\"Saved %s: %s\" % (filename, content))"
   ]
  },
  {
   "cell_type": "code",
   "execution_count": null,
   "metadata": {},
   "outputs": [],
   "source": []
  }
 ],
 "metadata": {
  "kernelspec": {
   "display_name": "Python 3",
   "language": "python",
   "name": "python3"
  },
  "language_info": {
   "codemirror_mode": {
    "name": "ipython",
    "version": 3
   },
   "file_extension": ".py",
   "mimetype": "text/x-python",
   "name": "python",
   "nbconvert_exporter": "python",
   "pygments_lexer": "ipython3",
   "version": "3.8.2"
  }
 },
 "nbformat": 4,
 "nbformat_minor": 4
}
